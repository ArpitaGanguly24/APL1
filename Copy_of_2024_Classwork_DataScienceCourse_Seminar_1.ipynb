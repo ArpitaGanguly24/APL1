{
  "nbformat": 4,
  "nbformat_minor": 0,
  "metadata": {
    "colab": {
      "provenance": [],
      "include_colab_link": true
    },
    "kernelspec": {
      "name": "python3",
      "display_name": "Python 3"
    },
    "language_info": {
      "name": "python"
    }
  },
  "cells": [
    {
      "cell_type": "markdown",
      "metadata": {
        "id": "view-in-github",
        "colab_type": "text"
      },
      "source": [
        "<a href=\"https://colab.research.google.com/github/ArpitaGanguly24/APL1/blob/main/Copy_of_2024_Classwork_DataScienceCourse_Seminar_1.ipynb\" target=\"_parent\"><img src=\"https://colab.research.google.com/assets/colab-badge.svg\" alt=\"Open In Colab\"/></a>"
      ]
    },
    {
      "cell_type": "markdown",
      "source": [
        "## Introduction\n",
        "\n",
        "This notebook will give you an introduction to Python and Jupyter notebooks in general.\n",
        "\n",
        "\n",
        "---\n",
        "\n",
        "\n",
        "**Vocabulary: Notebook**\n",
        "\n",
        "A notebook, especially in the context of platforms like Jupyter, is an interactive environment that allows you to write and execute code, as well as include text, images, equations, and other media. It's a powerful tool for data analysis, scientific research, and education."
      ],
      "metadata": {
        "id": "jC4ttbGb0RPs"
      }
    },
    {
      "cell_type": "markdown",
      "source": [
        "**Printing in Python**\n",
        "\n",
        "To display content in Python, you can use the print function. Try executing the code below by clicking on the cell and then pressing the **Run** button (or **Shift + Enter** on your keyboard)."
      ],
      "metadata": {
        "id": "vFk_63Zf1Quf"
      }
    },
    {
      "cell_type": "code",
      "source": [
        "print(\"Hello world!\")"
      ],
      "metadata": {
        "id": "v4fWnr5v1HXw",
        "colab": {
          "base_uri": "https://localhost:8080/"
        },
        "outputId": "289e0cc8-56c8-44f4-9a05-54a8c202d285"
      },
      "execution_count": null,
      "outputs": [
        {
          "output_type": "stream",
          "name": "stdout",
          "text": [
            "Hello world!\n"
          ]
        }
      ]
    },
    {
      "cell_type": "markdown",
      "source": [
        "If done correctly, \"Hello, World!\" should be displayed beneath the cell.\n",
        "\n",
        "**Variables**\n",
        "\n",
        "In Python, you can store data in variables. Unlike some other languages, you don't need to declare the data type of a variable; Python will figure it out for you."
      ],
      "metadata": {
        "id": "nX-uWKdN1cuK"
      }
    },
    {
      "cell_type": "code",
      "source": [
        "name = \"Alice\"\n",
        "age = 30\n",
        "\n",
        "print(name)\n",
        "print(age)"
      ],
      "metadata": {
        "id": "8R-vcTp91gTg",
        "colab": {
          "base_uri": "https://localhost:8080/"
        },
        "outputId": "ded08ab1-75ba-4991-84f1-1c52737faea6"
      },
      "execution_count": null,
      "outputs": [
        {
          "output_type": "stream",
          "name": "stdout",
          "text": [
            "Alice\n",
            "30\n"
          ]
        }
      ]
    },
    {
      "cell_type": "markdown",
      "source": [
        "**Basic Math**\n",
        "\n",
        "Python supports all the basic arithmetic operations:"
      ],
      "metadata": {
        "id": "4CZzDGGY1nWn"
      }
    },
    {
      "cell_type": "code",
      "source": [
        "a = 10\n",
        "b = 20\n",
        "\n",
        "print(a + b)  # Addition\n",
        "print(a - b)  # Subtraction\n",
        "print(a * b)  # Multiplication\n",
        "print(a / b)  # Division"
      ],
      "metadata": {
        "id": "LMu2HhtC1rWO",
        "colab": {
          "base_uri": "https://localhost:8080/"
        },
        "outputId": "4189f46a-c4af-4386-cd15-57aa1ab16274"
      },
      "execution_count": null,
      "outputs": [
        {
          "output_type": "stream",
          "name": "stdout",
          "text": [
            "30\n",
            "-10\n",
            "200\n",
            "0.5\n"
          ]
        }
      ]
    },
    {
      "cell_type": "markdown",
      "source": [
        "**Lists**\n",
        "\n",
        "A list in Python is an ordered collection of items:"
      ],
      "metadata": {
        "id": "hYEIg5Ow1ws-"
      }
    },
    {
      "cell_type": "code",
      "source": [
        "fruits = [\"apple\", \"banana\", \"cherry\"]\n",
        "\n",
        "# Print the entire list\n",
        "print(fruits)\n",
        "\n",
        "# Print the first item in the list\n",
        "print(fruits[0])\n",
        "\n"
      ],
      "metadata": {
        "id": "u2u8mGaM1zsL",
        "colab": {
          "base_uri": "https://localhost:8080/"
        },
        "outputId": "885a5c01-4ccf-4c9c-a547-dd9fec984488"
      },
      "execution_count": null,
      "outputs": [
        {
          "output_type": "stream",
          "name": "stdout",
          "text": [
            "['apple', 'banana', 'cherry']\n",
            "apple\n"
          ]
        }
      ]
    },
    {
      "cell_type": "code",
      "source": [
        "# Add element to the list\n",
        "fruit = \"orange\"\n",
        "\n",
        "# you can add an element using +\n",
        "updated_fruits = fruits + [fruit,]\n",
        "print(updated_fruits)\n",
        "\n",
        "# you can add an element using append\n",
        "fruits.append(fruit)\n",
        "print(fruits)\n"
      ],
      "metadata": {
        "id": "uWS8mLG5b-ea",
        "colab": {
          "base_uri": "https://localhost:8080/"
        },
        "outputId": "ba06d5bc-e8b4-4c0d-ed8b-bb6525fac373"
      },
      "execution_count": null,
      "outputs": [
        {
          "output_type": "stream",
          "name": "stdout",
          "text": [
            "['apple', 'banana', 'cherry', 'orange']\n",
            "['apple', 'banana', 'cherry', 'orange']\n"
          ]
        }
      ]
    },
    {
      "cell_type": "code",
      "source": [
        "fruit_1 = \"strawberyy\"\n",
        "new_fruits  = [fruit_1,]+fruits\n",
        "print(\"add fruit in beginning\",new_fruits)\n",
        "fruit_2 = 'mango'\n",
        "\n",
        "new_fruits_2 = fruits[0:len(fruits)//2]+[fruit_2,]+ fruits[len(fruits)//2:]\n",
        "print(\"add fruit in the middle:\", new_fruits_2)\n"
      ],
      "metadata": {
        "colab": {
          "base_uri": "https://localhost:8080/"
        },
        "id": "bwKU_uq1Gcek",
        "outputId": "127568d1-ea27-4f53-9b33-e8a7fe325608"
      },
      "execution_count": null,
      "outputs": [
        {
          "output_type": "stream",
          "name": "stdout",
          "text": [
            "add fruit in beginning ['strawberyy', 'apple', 'banana', 'cherry', 'orange']\n",
            "add fruit in the middle: ['apple', 'banana', 'mango', 'cherry', 'orange']\n"
          ]
        }
      ]
    },
    {
      "cell_type": "markdown",
      "source": [
        "Try adding an element in the beginning of the list, in the middle.\n",
        "\n",
        "Append is in-place operation, so it changes the list directly. Make sure you understand what it means and how it differs from + here."
      ],
      "metadata": {
        "id": "mUppanU8cbG9"
      }
    },
    {
      "cell_type": "markdown",
      "source": [
        "**Vocabulary: Getting Started with Notebooks**\n",
        "\n",
        "**Cells**: Notebooks are made up of cells. A cell can contain either code or markdown (text, images, equations, etc.).\n",
        "\n",
        "**Running a cell**: To run a cell, select it and press the **Run** button or use the **Shift + Enter** shortcut.\n",
        "\n",
        "**Adding a cell**: You can add a new cell by using the \"**+ Code**\" option.\n",
        "\n",
        "**Markdown**: For text cells, notebooks often use markdown syntax, which allows you to format text, add links, images, and more. Add it with \"**+ Text**\"."
      ],
      "metadata": {
        "id": "J_M7ouBv2dVc"
      }
    },
    {
      "cell_type": "markdown",
      "source": [
        "\n",
        "\n",
        "---\n",
        "\n",
        "We finished a basic introduction, let's look at the library which you will use a lot for linear algenbra: **NumPy**\n",
        "\n",
        "# What is NumPy?\n",
        "\n",
        "**NumPy** (Numerical Python) is one of the most foundational packages for numerical computations in Python. It provides support for large multi-dimensional arrays and matrices, along with a collection of mathematical functions to operate on these arrays.\n",
        "\n",
        "# Why NumPy?\n",
        "\n",
        "**Performance**: NumPy operations are implemented in C, providing faster executions than traditional Python loops.\n",
        "\n",
        "**Multidimensional Arrays**: Helps you efficiently handle and compute data.\n",
        "\n",
        "**Mathematical Functions**: Offers a wide range of functions for statistical, linear algebra, and other numerical operations."
      ],
      "metadata": {
        "id": "w29xTYsT3YOh"
      }
    },
    {
      "cell_type": "code",
      "source": [
        "#!pip install numpy\n",
        "import numpy as np"
      ],
      "metadata": {
        "id": "FPwDd_dpNbUO"
      },
      "execution_count": null,
      "outputs": []
    },
    {
      "cell_type": "markdown",
      "source": [
        "# NumPy: Creating Arrays\n",
        "\n",
        "One of the most fundamental structures in NumPy is the array, a grid of values of the same type.\n",
        "\n",
        "Here, we are creating a NumPy array a from the range of numbers starting at 2, ending before 8, with a step size of 3.\n",
        "\n",
        "**2** 3 4 **5** 6 7 8\n",
        "\n",
        "This will result in an array containing [2, 5]."
      ],
      "metadata": {
        "id": "e38teLTg3kmT"
      }
    },
    {
      "cell_type": "code",
      "source": [
        "a=np.array(range(2,8,3))\n",
        "a"
      ],
      "metadata": {
        "id": "mSnUlHbPNsIM",
        "colab": {
          "base_uri": "https://localhost:8080/"
        },
        "outputId": "5442d848-0a87-4154-d78c-4ee8e1083b71"
      },
      "execution_count": null,
      "outputs": [
        {
          "output_type": "execute_result",
          "data": {
            "text/plain": [
              "array([2, 5])"
            ]
          },
          "metadata": {},
          "execution_count": 143
        }
      ]
    },
    {
      "cell_type": "markdown",
      "source": [
        "*Note: when you type the variable as the last line of the cell, Jupyter Notebook automatically prints it.*"
      ],
      "metadata": {
        "id": "oYOOOoMy4Z-z"
      }
    },
    {
      "cell_type": "code",
      "source": [
        "v1 = 3\n",
        "v2 = 4\n",
        "v1, v2"
      ],
      "metadata": {
        "id": "vP1_IImp4ncv",
        "colab": {
          "base_uri": "https://localhost:8080/"
        },
        "outputId": "9ed4f8d3-3f57-4e4f-8a79-927854739466"
      },
      "execution_count": null,
      "outputs": [
        {
          "output_type": "execute_result",
          "data": {
            "text/plain": [
              "(3, 4)"
            ]
          },
          "metadata": {},
          "execution_count": 144
        }
      ]
    },
    {
      "cell_type": "markdown",
      "source": [
        "# NumPy: Understanding the Shape\n",
        "\n",
        "The **shape** attribute of a NumPy array tells us about its dimensions:"
      ],
      "metadata": {
        "id": "G40cam4e4vB0"
      }
    },
    {
      "cell_type": "code",
      "source": [
        "a.shape"
      ],
      "metadata": {
        "id": "U7xeyvu5N0IB",
        "colab": {
          "base_uri": "https://localhost:8080/"
        },
        "outputId": "2bb25dc7-4372-4b0b-9503-e97bced2ab66"
      },
      "execution_count": null,
      "outputs": [
        {
          "output_type": "execute_result",
          "data": {
            "text/plain": [
              "(2,)"
            ]
          },
          "metadata": {},
          "execution_count": 145
        }
      ]
    },
    {
      "cell_type": "markdown",
      "source": [
        "# Numpy: Reshaping Arrays\n",
        "\n",
        "We can change the dimensions of an array without changing its data:\n",
        "\n"
      ],
      "metadata": {
        "id": "2rPGY83c40oH"
      }
    },
    {
      "cell_type": "code",
      "source": [
        "a=a.reshape(-1,1)\n",
        "a"
      ],
      "metadata": {
        "id": "RC4Krb3WN1Va",
        "colab": {
          "base_uri": "https://localhost:8080/"
        },
        "outputId": "a1752c9e-6146-4c5e-85dd-50936a7d43dc"
      },
      "execution_count": null,
      "outputs": [
        {
          "output_type": "execute_result",
          "data": {
            "text/plain": [
              "array([[2],\n",
              "       [5]])"
            ]
          },
          "metadata": {},
          "execution_count": 146
        }
      ]
    },
    {
      "cell_type": "markdown",
      "source": [
        "By reshaping, we've converted a into a two-dimensional column vector."
      ],
      "metadata": {
        "id": "y-rzrmV85ttj"
      }
    },
    {
      "cell_type": "markdown",
      "source": [
        "# NumPy: Transposition\n",
        "\n",
        "Transposing a matrix means to flip it over its diagonal, turning row vectors into column vectors and vice versa:"
      ],
      "metadata": {
        "id": "2ksZvcBa5uyz"
      }
    },
    {
      "cell_type": "code",
      "source": [
        "a.shape"
      ],
      "metadata": {
        "id": "C4tZmC1cN70V",
        "colab": {
          "base_uri": "https://localhost:8080/"
        },
        "outputId": "92840f02-f942-4ccf-e25f-1d926bfe98e0"
      },
      "execution_count": null,
      "outputs": [
        {
          "output_type": "execute_result",
          "data": {
            "text/plain": [
              "(2, 1)"
            ]
          },
          "metadata": {},
          "execution_count": 147
        }
      ]
    },
    {
      "cell_type": "code",
      "source": [
        "a.T"
      ],
      "metadata": {
        "id": "E_QhbNO1N829",
        "colab": {
          "base_uri": "https://localhost:8080/"
        },
        "outputId": "3379cc16-9c65-4b2a-9e2c-f9f8d39f34a6"
      },
      "execution_count": null,
      "outputs": [
        {
          "output_type": "execute_result",
          "data": {
            "text/plain": [
              "array([[2, 5]])"
            ]
          },
          "metadata": {},
          "execution_count": 148
        }
      ]
    },
    {
      "cell_type": "code",
      "source": [
        "a.T.shape"
      ],
      "metadata": {
        "id": "mMa1beKuN-Gl",
        "colab": {
          "base_uri": "https://localhost:8080/"
        },
        "outputId": "b1bf6be7-d979-476f-83b2-3020c1e2928b"
      },
      "execution_count": null,
      "outputs": [
        {
          "output_type": "execute_result",
          "data": {
            "text/plain": [
              "(1, 2)"
            ]
          },
          "metadata": {},
          "execution_count": 149
        }
      ]
    },
    {
      "cell_type": "markdown",
      "source": [
        "# NumPy: Matrix Multiplication\n",
        "\n",
        "NumPy allows us to perform matrix multiplication using the @ operator."
      ],
      "metadata": {
        "id": "ZE7iFYiN53Dg"
      }
    },
    {
      "cell_type": "code",
      "source": [
        "a.T*a"
      ],
      "metadata": {
        "id": "iEgcPQ8vOAEs",
        "colab": {
          "base_uri": "https://localhost:8080/"
        },
        "outputId": "09485887-4dd1-4a5a-f6ab-3246909a6ade"
      },
      "execution_count": null,
      "outputs": [
        {
          "output_type": "execute_result",
          "data": {
            "text/plain": [
              "array([[ 4, 10],\n",
              "       [10, 25]])"
            ]
          },
          "metadata": {},
          "execution_count": 150
        }
      ]
    },
    {
      "cell_type": "code",
      "source": [
        "(a.T @ a) ** 0.5"
      ],
      "metadata": {
        "id": "MumUCuU3OEaB",
        "colab": {
          "base_uri": "https://localhost:8080/"
        },
        "outputId": "61f2080d-00f3-4559-ed5d-85c134c59830"
      },
      "execution_count": null,
      "outputs": [
        {
          "output_type": "execute_result",
          "data": {
            "text/plain": [
              "array([[5.38516481]])"
            ]
          },
          "metadata": {},
          "execution_count": 151
        }
      ]
    },
    {
      "cell_type": "markdown",
      "source": [
        "# NumPy:  Norm of a Matrix\n",
        "\n",
        "The norm of a matrix or vector is a scalar that gives some measure of the magnitude of the elements of the matrix or vector. Let's compute it:"
      ],
      "metadata": {
        "id": "HGkgZhfR6A9y"
      }
    },
    {
      "cell_type": "code",
      "source": [
        "np.linalg.norm(a)"
      ],
      "metadata": {
        "id": "u5PdBCpchuJ7",
        "colab": {
          "base_uri": "https://localhost:8080/"
        },
        "outputId": "eec8e179-5aa2-483e-d331-526fe1abb999"
      },
      "execution_count": null,
      "outputs": [
        {
          "output_type": "execute_result",
          "data": {
            "text/plain": [
              "5.385164807134504"
            ]
          },
          "metadata": {},
          "execution_count": 152
        }
      ]
    },
    {
      "cell_type": "markdown",
      "source": [
        "**Vectors using numpy**\n",
        "\n",
        "Create vectors of a given shape (5,1) using [np.ones](https://numpy.org/doc/stable/reference/generated/numpy.ones.html), [np.zeros](https://numpy.org/doc/stable/reference/generated/numpy.zeros.html) and [np.random.randn](https://numpy.org/doc/stable/reference/random/generated/numpy.random.randn.html) (random Gaussian)\n"
      ],
      "metadata": {
        "id": "kZjPilogMONo"
      }
    },
    {
      "cell_type": "code",
      "source": [
        "shape = (5,1)"
      ],
      "metadata": {
        "id": "0pygmfNdMNkG"
      },
      "execution_count": null,
      "outputs": []
    },
    {
      "cell_type": "code",
      "source": [
        "#ones\n",
        "vectors = np.ones((5,1))\n",
        "vectors"
      ],
      "metadata": {
        "id": "hMOnnyj3MaqV",
        "colab": {
          "base_uri": "https://localhost:8080/"
        },
        "outputId": "9d5d0ec1-b707-4205-ee9b-4fb0980d76d8"
      },
      "execution_count": null,
      "outputs": [
        {
          "output_type": "execute_result",
          "data": {
            "text/plain": [
              "array([[1.],\n",
              "       [1.],\n",
              "       [1.],\n",
              "       [1.],\n",
              "       [1.]])"
            ]
          },
          "metadata": {},
          "execution_count": 154
        }
      ]
    },
    {
      "cell_type": "code",
      "source": [
        "#zeros\n",
        "vectors = np.zeros((5,1))\n",
        "vectors"
      ],
      "metadata": {
        "id": "QG2KIBN6MeCl",
        "colab": {
          "base_uri": "https://localhost:8080/"
        },
        "outputId": "aa6238e9-65ea-45e7-c4e3-a16b0a889302"
      },
      "execution_count": null,
      "outputs": [
        {
          "output_type": "execute_result",
          "data": {
            "text/plain": [
              "array([[0.],\n",
              "       [0.],\n",
              "       [0.],\n",
              "       [0.],\n",
              "       [0.]])"
            ]
          },
          "metadata": {},
          "execution_count": 155
        }
      ]
    },
    {
      "cell_type": "code",
      "source": [
        "#random\n",
        "shape=(5,1)\n",
        "vectors = np.random.randn(*shape)\n",
        "vectors"
      ],
      "metadata": {
        "id": "Uzr97n6EMpT-",
        "colab": {
          "base_uri": "https://localhost:8080/"
        },
        "outputId": "38d65c59-4a28-41fb-a186-c6c405a8a2d9"
      },
      "execution_count": null,
      "outputs": [
        {
          "output_type": "execute_result",
          "data": {
            "text/plain": [
              "array([[-0.30871303],\n",
              "       [ 0.66763642],\n",
              "       [-2.39623988],\n",
              "       [ 0.57954014],\n",
              "       [-0.05878073]])"
            ]
          },
          "metadata": {},
          "execution_count": 156
        }
      ]
    },
    {
      "cell_type": "markdown",
      "source": [
        "Check what random takes as arguments. You might want to use operation * on Tuple.\n",
        "\n",
        "(you can google  \"Unpacking Operators in Python\" if you want to learn more)"
      ],
      "metadata": {
        "id": "nIYRDeQ7dAPC"
      }
    },
    {
      "cell_type": "code",
      "source": [
        "\n",
        "print(shape)\n",
        "print(*shape)"
      ],
      "metadata": {
        "id": "ugEbma0VdviM",
        "colab": {
          "base_uri": "https://localhost:8080/"
        },
        "outputId": "92f17bae-5a9d-417a-8b07-5fab5b4a5fea"
      },
      "execution_count": null,
      "outputs": [
        {
          "output_type": "stream",
          "name": "stdout",
          "text": [
            "(5, 1)\n",
            "5 1\n"
          ]
        }
      ]
    },
    {
      "cell_type": "markdown",
      "source": [
        "**Task:**\n",
        "\n",
        "*Create standard random Gaussian vectors of sizes 100, 500, 10_000 and plot the histogram of its values using matplotlib.pyplot.hist. What do you observe? Try setting density argument to True, how histogram is related to the pdf? Also try sampling values from uniform distribution ([np.random.rand](https://numpy.org/doc/stable/reference/random/generated/numpy.random.rand.html))*"
      ],
      "metadata": {
        "id": "1xRD8aXcbIKA"
      }
    },
    {
      "cell_type": "code",
      "source": [
        "import matplotlib.pyplot as plt\n",
        "# Gaussian vectors of sizes 100, 500, and 10,000\n",
        "gaussian_100 = np.random.randn(100)\n",
        "gaussian_500 = np.random.randn(500)\n",
        "gaussian_10k = np.random.randn(10000)\n",
        "\n",
        "# Uniform vectors of the same sizes\n",
        "uniform_100 = np.random.rand(100)\n",
        "uniform_500 = np.random.rand(500)\n",
        "uniform_10k = np.random.rand(10000)\n",
        "\n",
        "# Histograms for Gaussian distributions\n",
        "plt.figure(figsize=(12, 8))\n",
        "\n",
        "plt.subplot(2, 3, 1)\n",
        "plt.hist(gaussian_100, bins=20, density=False,color='royalblue')\n",
        "plt.title(\"Gaussian (n=100)\")\n",
        "\n",
        "plt.subplot(2, 3, 2)\n",
        "plt.hist(gaussian_500, bins=20, density=True, color='indianred')\n",
        "plt.title(\"Gaussian (n=500)\")\n",
        "\n",
        "plt.subplot(2, 3, 3)\n",
        "plt.hist(gaussian_10k, bins=20, density=True, color='darkgreen')\n",
        "plt.title(\"Gaussian (n=10,000)\")\n",
        "\n",
        "# Histograms for Uniform distributions\n",
        "plt.subplot(2, 3, 4)\n",
        "plt.hist(uniform_100, bins=20, density=True,  color='royalblue')\n",
        "plt.title(\"Uniform (n=100)\")\n",
        "\n",
        "plt.subplot(2, 3, 5)\n",
        "plt.hist(uniform_500, bins=20, density=True,  color='indianred')\n",
        "plt.title(\"Uniform (n=500)\")\n",
        "\n",
        "plt.subplot(2, 3, 6)\n",
        "plt.hist(uniform_10k, bins=20, density=True,  color='darkgreen')\n",
        "plt.title(\"Uniform (n=10,000)\")\n",
        "\n",
        "plt.tight_layout()\n",
        "plt.show()\n"
      ],
      "metadata": {
        "colab": {
          "base_uri": "https://localhost:8080/",
          "height": 807
        },
        "id": "jlRqLNXWJm6J",
        "outputId": "82f468dd-2e2c-4ae5-a1a1-b9435a54733b"
      },
      "execution_count": null,
      "outputs": [
        {
          "output_type": "display_data",
          "data": {
            "text/plain": [
              "<Figure size 1200x800 with 6 Axes>"
            ],
            "image/png": "[encoded data removed]"
          },
          "metadata": {}
        }
      ]
    },
    {
      "cell_type": "markdown",
      "source": [
        "ANSWERS: **On comparing the Gaussian distribution, it seems that with increasing sample size, the bell curve of the distribution becomes smoother.\n",
        "\n",
        "When density is set to True, it acts as a normalisation, so the area under the curve is equal to 1. This represents the PDF ( probability density function). When density if False, it shows the rawy counts of the data, so the height of the bars of the histogram represent the counts. Turning density to true allows us to make the raw counts and PDF comparable.\n",
        "\n",
        "On comparing the uniform random samples, we can say that on increasing the sample size, all random numbers from 0 to 1 become more equally likely. Visually the histogram looks flatter and flatter as the sample size increases**"
      ],
      "metadata": {
        "id": "7y1RLZ8OK0mT"
      }
    },
    {
      "cell_type": "markdown",
      "source": [
        "# **Problem 1: Represantation space with data vectors (slides 8-9)**\n",
        "\n",
        "## Representation Space\n",
        "\n",
        "Data $X = \\{x_1, \\dots, x_N\\}$ where $x_i \\in \\Omega \\subseteq \\mathbb{R}^D$ for all $i \\in [[N]]$.\n",
        "\n",
        "### Statistical View\n",
        "\n",
        "Data $X$ is an $N$-sized sample of the underlying $D$-variate pdf $f_X : \\Omega \\rightarrow \\mathbb{R}^+$.\n",
        "We declare $N$ i.i.d random variables $\\{X_i\\}_{i\\in[[N]]}$, where $X_i \\sim f_X$.\n",
        "Every data $x_i$ is a sample of $X_i$.\n",
        "\n",
        "### Algebraic View\n",
        "\n",
        "Given $X$, we form matrix\n",
        "\n",
        "$$\n",
        "X =\n",
        "\\begin{pmatrix}\n",
        "| & & | \\\\\n",
        "x_1 & \\dots & x_N \\\\\n",
        "| & & |\n",
        "\\end{pmatrix}\n",
        "\\in \\mathbb{R}^{D \\times N}\n",
        "$$\n",
        "\n",
        "whose columns $X_{.j} = x_j$ are the data vectors.\n",
        "\n",
        "## Data Sparsity\n",
        "\n",
        "Given a population over hypercube $\\Omega = [a, b]^D$ for some $a$, $b$, $D$. $X$ is a sample of this population.\n",
        "\n",
        "To obtain an empirical estimate (histogram) of the pdf, we quantize each dimension uniformly into $b$ bins. To obtain a decent estimation quality, we hope for an average of $n$ samples per bin.\n",
        "\n",
        "### Question:\n",
        "How many samples do we need: what should $N$ be?\n",
        "\n",
        "- $D = 1 \\rightarrow N \\approx n \\cdot b$\n",
        "- $D = 2 \\rightarrow N \\approx n \\cdot b^2$\n",
        "- ...\n",
        "- $D \\rightarrow N \\approx n \\cdot b^D$\n",
        "\n",
        "**Example**: $b = 10$, $n = 10$, $D = 6 \\Rightarrow N \\approx 10^7$ samples.\n"
      ],
      "metadata": {
        "id": "uoMzsA27OVCs"
      }
    },
    {
      "cell_type": "markdown",
      "source": [
        "Notes : X is matrix with N data points, and each data point is a D-dimensional vector (multivariate data).\n",
        "Sample space Ω (the set of all possible data points) to non-negative real numbers R+"
      ],
      "metadata": {
        "id": "mqwGGvRjNOgZ"
      }
    },
    {
      "cell_type": "markdown",
      "source": [],
      "metadata": {
        "id": "S_13PqNtOMc_"
      }
    },
    {
      "cell_type": "markdown",
      "source": [
        "Answers :"
      ],
      "metadata": {
        "id": "o6o1svm1Kzgm"
      }
    },
    {
      "cell_type": "markdown",
      "source": [
        "**Task: Sample Size in 3D**\n",
        "\n",
        "Given a three-dimensional space ($\\mathbb{R}^3$), you are required to generate samples and divide the space into bins.\n",
        "\n",
        "Determine the total number of samples needed such that:\n",
        "\n",
        "*   The entire space is divided into 10 bins along each dimension.\n",
        "*   Each bin contains exactly 5 samples.\n",
        "\n",
        "*Hint: Remember how the number of samples scales with the dimension and the number of bins.*"
      ],
      "metadata": {
        "id": "464GX64a8IDT"
      }
    },
    {
      "cell_type": "code",
      "source": [
        "D = 3 #representation space dimensionality\n",
        "b = 10 #bins\n",
        "n = 5 #samples per bin we want\n",
        "\n",
        "# To find out L, refer to the lectures\n",
        "L = n*b**D #number of samples we need to genenrate to have n samples per bin\n",
        "assert isinstance(L, (int, float)), \"L should be a scalar\"\n",
        "\n",
        "L"
      ],
      "metadata": {
        "id": "CvuKLpohQIdo",
        "colab": {
          "base_uri": "https://localhost:8080/"
        },
        "outputId": "9d7eedc1-a06d-4c88-fb54-9adc2559a450"
      },
      "execution_count": null,
      "outputs": [
        {
          "output_type": "execute_result",
          "data": {
            "text/plain": [
              "5000"
            ]
          },
          "metadata": {},
          "execution_count": 159
        }
      ]
    },
    {
      "cell_type": "markdown",
      "source": [
        "**Task: Matrix Sample Generation**\n",
        "\n",
        "Complete the function **generate_sample** below to produce a matrix of random numbers (uniform from [0,1) ) with a specified shape. Use np.random.rand again"
      ],
      "metadata": {
        "id": "vy2hegbtK3QM"
      }
    },
    {
      "cell_type": "code",
      "source": [
        "def generate_sample(shape: tuple) -> np.ndarray:\n",
        "  return np.random.rand(*shape)\n",
        "shape=(L, D)\n",
        "X = generate_sample(shape)\n",
        "X[:6]"
      ],
      "metadata": {
        "id": "9H-Z8GHsOdiI",
        "colab": {
          "base_uri": "https://localhost:8080/"
        },
        "outputId": "59a54fbb-5050-4e6d-cefe-a56ad33566a9"
      },
      "execution_count": null,
      "outputs": [
        {
          "output_type": "execute_result",
          "data": {
            "text/plain": [
              "array([[0.76678188, 0.28728046, 0.62917767],\n",
              "       [0.07867185, 0.00850953, 0.69625854],\n",
              "       [0.61356617, 0.45948776, 0.52322506],\n",
              "       [0.39410886, 0.94644056, 0.47795057],\n",
              "       [0.98143604, 0.40590343, 0.23817268],\n",
              "       [0.58976508, 0.06063022, 0.664708  ]])"
            ]
          },
          "metadata": {},
          "execution_count": 160
        }
      ]
    },
    {
      "cell_type": "markdown",
      "source": [
        "**Task: D-dimensional Histogram Generation**\n",
        "\n",
        "Your objective is to utilize the [np.histogramdd](https://numpy.org/doc/stable/reference/generated/numpy.histogramdd.html) function to produce a D-dimensional histogram with a specified number of bins, b.\n",
        "\n",
        "The resulting histogram should:\n",
        "\n",
        "\n",
        "*   Have a shape (b, b, ..., b) where b is repeated D times.\n",
        "*   Contain elements that represent the number of samples in each bin.\n",
        "\n",
        "\n",
        "    \n",
        "    "
      ],
      "metadata": {
        "id": "ZW8qbA0YW0dh"
      }
    },
    {
      "cell_type": "code",
      "source": [
        "def generate_histogram(data: np.ndarray, bins: int) -> np.ndarray:\n",
        "  hist, _ = np.histogramdd(data, bins=bins)\n",
        "\n",
        "  return hist\n",
        "\n",
        "X = np.random.rand(N, D)  # N samples, D-dimensional data\n",
        "print(N,D)\n",
        "h = generate_histogram(data=X, bins=b)\n",
        "\n",
        "h.shape\n",
        "# h"
      ],
      "metadata": {
        "id": "0fzPGehtOfB5",
        "colab": {
          "base_uri": "https://localhost:8080/"
        },
        "outputId": "4ac090ba-9edd-4133-c288-e00b0fcf0b35"
      },
      "execution_count": null,
      "outputs": [
        {
          "output_type": "stream",
          "name": "stdout",
          "text": [
            "1000 3\n"
          ]
        },
        {
          "output_type": "execute_result",
          "data": {
            "text/plain": [
              "(10, 10, 10)"
            ]
          },
          "metadata": {},
          "execution_count": 161
        }
      ]
    },
    {
      "cell_type": "code",
      "source": [
        "assert h.shape == (10, 10, 10)"
      ],
      "metadata": {
        "id": "hJ1ph5n8S9Wh"
      },
      "execution_count": null,
      "outputs": []
    },
    {
      "cell_type": "markdown",
      "source": [
        "**Task: Data Sparsity**\n",
        "\n",
        "The objective of this task is to illustrate how, with increasing dimensionality D, the average number of samples within each bin decreases, leading to data sparsity.\n",
        "\n",
        "Given the functions you've previously implemented, the provided code will help demonstrate this phenomenon. Your responsibilities are:\n",
        "\n",
        "    \n",
        "\n",
        "*   Ensure the provided code runs correctly.\n",
        "*   Understand each line of the code.\n",
        "*   Annotate the code with comments to explain its operation"
      ],
      "metadata": {
        "id": "CsJmZlKCAnqC"
      }
    },
    {
      "cell_type": "code",
      "source": [
        "D_range = range(1,8) # Range of dimnesions to be tested ( from 1D to 7D)\n",
        "h_values = [] # Initialising an empty list to store the mean histogram values meaning average samples per bin\n",
        "\n",
        "N = L # N is the number of samples which is set to L (number of samples needed ot have n samples per bin b)\n",
        "for D in D_range:\n",
        "  shape=(N, D) # Defining the shape of the data where n: number of smaples, d: number of dimensions\n",
        "\n",
        "  \"\"\" Generating a random sample matrix of shape (N, D) using the function generate_sample()\n",
        "\n",
        "  The generate_sample() function is assumed to generate uniformly random data in [0, 1)\"\"\"\n",
        "  X = generate_sample(shape)\n",
        "  \"\"\"Creating a histogram with a certain number of bins b using the function generate_histogram()\n",
        "      This function returns a histogram with counts of how many points fall into each bin\"\"\"\n",
        "  h = generate_histogram(X, b)\n",
        "\n",
        "  h_mean = np.mean(h) # Calculating the mean number of samples per bin (h_mean) by averaging the values in the histogram\n",
        "  \"\"\"Computing the proportion of samples in each bin relative to the total number of samples N\n",
        "     This shows how evenly the data is distributed in the bins\"\"\"\n",
        "  p = h_mean/N\n",
        "\n",
        "  h_values.append(h_mean) #Appending the mean number of samples per bin to h_values"
      ],
      "metadata": {
        "id": "btz9djtzPMJ3"
      },
      "execution_count": null,
      "outputs": []
    },
    {
      "cell_type": "code",
      "source": [
        "#Plot the average samples per bin for each dimension in D_range\n",
        "plt.plot(D_range, h_values)\n",
        "plt.xlabel(\"Dimensionality\")\n",
        "plt.ylabel(\"Average sample in the bin\")"
      ],
      "metadata": {
        "id": "_rw4Pkg4SI83",
        "colab": {
          "base_uri": "https://localhost:8080/",
          "height": 467
        },
        "outputId": "06bfe077-a5f8-4f12-8350-aa21d260911b"
      },
      "execution_count": null,
      "outputs": [
        {
          "output_type": "execute_result",
          "data": {
            "text/plain": [
              "Text(0, 0.5, 'Average sample in the bin')"
            ]
          },
          "metadata": {},
          "execution_count": 164
        },
        {
          "output_type": "display_data",
          "data": {
            "text/plain": [
              "<Figure size 640x480 with 1 Axes>"
            ],
            "image/png": "[encoded data removed]"
          },
          "metadata": {}
        }
      ]
    },
    {
      "cell_type": "markdown",
      "source": [
        "# **Problem 2: Empty Sphere**\n",
        "\n",
        "Consider the hypersphere \\( B^D(r) \\) with a radius \\( r \\) centered at the origin.\n",
        "\n",
        "This hypersphere is contained within the hypercube \\( C^D(r) = [-r, r]^D \\).\n",
        "\n",
        "Your objective is to draw \\( N \\) uniform samples from within this cube, i.e., from \\( U(C^D(r)) \\).\n",
        "\n",
        "## Task: Samples from the Hypersphere and the Hypercube (Slides 10-11)\n",
        "\n",
        "**Objective**:\n",
        "Illustrate the number of points that fall within the hypersphere when you uniformly sample from the encompassing hypercube in a D-dimensional space.\n",
        "\n",
        "### Context:\n",
        "\n",
        "- Consider a hypercube with bounds \\([-r, r]\\) in a D-dimensional space.\n",
        "- Within this hypercube, there is a hypersphere centered at the origin with radius \\(r\\).\n",
        "\n",
        "**Your Task**:\n",
        "\n",
        "1. Generate \\(N\\) uniform samples from the hypercube \\([-r,r]\\) in the D-dimensional space using [np.random.uniform ](https://numpy.org/doc/stable/reference/random/generated/numpy.random.uniform.html) .\n",
        "2. Determine and show how many of these samples fall within the hypersphere.\n"
      ],
      "metadata": {
        "id": "UxpmVS7oWORC"
      }
    },
    {
      "cell_type": "code",
      "source": [
        "# N = 100 #number of points\n",
        "# D = 3 #dimensionality\n",
        "# r = 0.3 #radius"
      ],
      "metadata": {
        "id": "DBU-TX3nXq0_"
      },
      "execution_count": null,
      "outputs": []
    },
    {
      "cell_type": "code",
      "source": [
        "def generate_cube_sample(N: int, D: int, r: float) -> np.ndarray:\n",
        "  return np.random.uniform(low=-r, high=r, size=(N, D)) #Generating N samples from the D-dimensional hypercube with side 2r ([-r, r])...\n",
        "cube_samples = generate_cube_sample(N=100, D=3, r=0.5)\n",
        "cube_samples.shape"
      ],
      "metadata": {
        "id": "tesb-w10SM4_",
        "colab": {
          "base_uri": "https://localhost:8080/"
        },
        "outputId": "162bf429-f101-4839-e715-986ce4caa88e"
      },
      "execution_count": null,
      "outputs": [
        {
          "output_type": "execute_result",
          "data": {
            "text/plain": [
              "(100, 3)"
            ]
          },
          "metadata": {},
          "execution_count": 205
        }
      ]
    },
    {
      "cell_type": "markdown",
      "source": [
        "Check yourself that samples are within given range"
      ],
      "metadata": {
        "id": "H7m1UAs_YCVH"
      }
    },
    {
      "cell_type": "code",
      "source": [
        "assert np.all(cube_samples >= -0.5) and np.all(cube_samples <= 0.5)"
      ],
      "metadata": {
        "id": "Uwe3xGsdYBqW"
      },
      "execution_count": null,
      "outputs": []
    },
    {
      "cell_type": "markdown",
      "source": [
        "What does this line do?\n",
        "\n",
        "Answer: This line ensures that the samples lie within the range of the hypercube [-r,r] in each dimension D, the assert command helps us keep a check on errors or unexpected sampling, if either condition is false an errors should be raised."
      ],
      "metadata": {
        "id": "f7JwvziMZop0"
      }
    },
    {
      "cell_type": "markdown",
      "source": [
        "Now how can you verify that a point lies in the sphere with a center in (0, 0) and radius r=0.5?\n",
        "\n",
        "*Hint: use [np.linalg.norm](https://numpy.org/doc/stable/reference/generated/numpy.linalg.norm.html)*"
      ],
      "metadata": {
        "id": "qDjd6qnXZvyv"
      }
    },
    {
      "cell_type": "code",
      "source": [
        "import numpy as np\n",
        "\n",
        "def is_inside_sphere(point: np.ndarray, r: float) -> bool:\n",
        "\n",
        "    # Compute the Euclidean distance from the origin\n",
        "    distance = np.linalg.norm(point)\n",
        "    # Check if the distance is within the radius\n",
        "    return distance <= r\n",
        "\n",
        "\n",
        "point = np.random.rand(2,)\n",
        "r = 0.5\n",
        "\n",
        "# Check if the point is inside the hypersphere\n",
        "is_inside = is_inside_sphere(point, r)\n",
        "print(f\"Point {point} is inside the hypersphere: {is_inside}\")\n"
      ],
      "metadata": {
        "id": "ytLVcqLRWqe3",
        "colab": {
          "base_uri": "https://localhost:8080/"
        },
        "outputId": "ac9312de-2ee9-477a-b5b5-a63b96f55927"
      },
      "execution_count": null,
      "outputs": [
        {
          "output_type": "stream",
          "name": "stdout",
          "text": [
            "Point [0.21177137 0.32824473] is inside the hypersphere: True\n"
          ]
        }
      ]
    },
    {
      "cell_type": "code",
      "source": [
        "#check if the point lies in the sphere with a center in (0, 0) and radius r=0.5? checked"
      ],
      "metadata": {
        "id": "eEVuw8S0YxgT"
      },
      "execution_count": null,
      "outputs": []
    },
    {
      "cell_type": "markdown",
      "source": [
        "What if we have N=100 points so the array of shape (100,2)? In this case we want to have an answer for each point separately.\n",
        "\n",
        "*Hint: check the axis argument in the function you used for one point.*"
      ],
      "metadata": {
        "id": "CBFbeyBMajZg"
      }
    },
    {
      "cell_type": "code",
      "source": [
        "# Define the number of points (N) and dimensions (D)\n",
        "N = 100\n",
        "D = 8\n",
        "r = 0.5\n",
        "\n",
        "# Generate points within a cube\n",
        "points = generate_cube_sample(N, D, r)\n",
        "\n",
        "# Print the first 5 generated points\n",
        "print(\"First 5 points in the cube:\\n\", points[:5])\n"
      ],
      "metadata": {
        "id": "Gq4COT2xaNWx",
        "colab": {
          "base_uri": "https://localhost:8080/"
        },
        "outputId": "2cd9f177-456e-46f5-bd69-8905611c6e5b"
      },
      "execution_count": null,
      "outputs": [
        {
          "output_type": "stream",
          "name": "stdout",
          "text": [
            "First 5 points in the cube:\n",
            " [[-4.70385287e-02  2.46966896e-02 -2.71327885e-01  3.19596295e-02\n",
            "   1.54416111e-01  6.07346113e-02  3.79699198e-01  3.85967042e-02]\n",
            " [-1.54678294e-01  3.37151916e-01  4.42683126e-01 -1.93481926e-01\n",
            "  -3.57635104e-04 -2.46326662e-01 -6.92887473e-02  7.36117336e-03]\n",
            " [-2.19011668e-01 -4.31846085e-01 -3.81439252e-01  3.22597368e-01\n",
            "  -1.68827361e-01  3.88364952e-01 -2.81636624e-01  2.00892664e-01]\n",
            " [-1.62628944e-01  4.03439648e-01 -2.95117785e-01  3.05094230e-01\n",
            "   3.28121999e-01 -1.14026326e-02 -1.34659147e-01 -1.13604194e-01]\n",
            " [ 5.88020930e-02  3.79259905e-01  4.47006837e-01 -1.67471874e-01\n",
            "   1.16326591e-01  3.75757610e-01  3.79879909e-01  2.40605898e-01]]\n"
          ]
        }
      ]
    },
    {
      "cell_type": "code",
      "source": [
        "def is_inside_sphere(points: np.ndarray, r: float) -> np.ndarray:\n",
        "    distances = np.linalg.norm(points, axis=1)\n",
        "\n",
        "    # Return True for points whose distance is <= r\n",
        "    return distances <= r\n",
        "\n",
        "\n",
        "inside_sphere_results = is_inside_sphere(points, r)\n",
        "inside_sphere_results"
      ],
      "metadata": {
        "id": "kyrur7yjaw73",
        "colab": {
          "base_uri": "https://localhost:8080/"
        },
        "outputId": "deb7304d-ec56-4aa6-dd1e-76d08da62678"
      },
      "execution_count": null,
      "outputs": [
        {
          "output_type": "execute_result",
          "data": {
            "text/plain": [
              "array([False, False, False, False, False, False, False, False, False,\n",
              "       False, False, False, False, False, False, False, False, False,\n",
              "       False, False, False, False, False, False, False, False, False,\n",
              "       False, False, False, False, False, False, False, False, False,\n",
              "       False, False, False, False, False, False, False, False, False,\n",
              "       False, False, False, False, False, False, False, False, False,\n",
              "       False, False, False, False, False, False, False, False, False,\n",
              "       False, False, False, False, False,  True, False, False, False,\n",
              "       False,  True, False, False, False, False, False, False, False,\n",
              "       False, False,  True, False, False, False, False, False, False,\n",
              "       False, False, False, False, False, False, False, False, False,\n",
              "       False])"
            ]
          },
          "metadata": {},
          "execution_count": 240
        }
      ]
    },
    {
      "cell_type": "markdown",
      "source": [
        "How many points are in the sphere?\n",
        "\n",
        "Hint: use [np.sum](https://numpy.org/doc/stable/reference/generated/numpy.sum.html)"
      ],
      "metadata": {
        "id": "N0xH4y7XbftR"
      }
    },
    {
      "cell_type": "code",
      "source": [
        "def count_inside_sphere(points: np.ndarray, r: float) -> int:\n",
        "    inside_sphere_flags = is_inside_sphere(points, r)\n",
        "    return np.sum(inside_sphere_results) #TODO count how many points are inside using np.sum"
      ],
      "metadata": {
        "id": "7Qagnj38FAmu"
      },
      "execution_count": null,
      "outputs": []
    },
    {
      "cell_type": "code",
      "source": [
        "#how many points are in the sphere?\n",
        "res = count_inside_sphere(points, r)\n",
        "res"
      ],
      "metadata": {
        "id": "XyOxHo-tbYbW",
        "colab": {
          "base_uri": "https://localhost:8080/"
        },
        "outputId": "a47792f9-29c5-4332-9d98-c8684e404086"
      },
      "execution_count": null,
      "outputs": [
        {
          "output_type": "execute_result",
          "data": {
            "text/plain": [
              "3"
            ]
          },
          "metadata": {},
          "execution_count": 242
        }
      ]
    },
    {
      "cell_type": "markdown",
      "source": [
        "## Task: Simulation of Samples in Hypersphere vs. Hypercube\n",
        "\n",
        "**Objective**:\n",
        "To simulate and visualize how many samples from a hypercube will fall within an encompassing hypersphere as the dimensionality increases.\n",
        "\n",
        "### Context:\n",
        "\n",
        "- Consider a D-dimensional hypercube with boundaries \\([-r, r]\\).\n",
        "- Within this hypercube, there's a D-dimensional hypersphere centered at the origin with radius \\(r\\).\n",
        "\n",
        "**Specifications**:\n",
        "- Set \\(r = 0.3\\).\n",
        "- Vary the dimensionality \\(D\\) from 1 to 20.\n",
        "- For each dimension, draw samples uniformly from the hypercube and count how many fall inside the hypersphere.\n",
        "\n",
        "**Your Task**:\n",
        "\n",
        "1. Use the provided code to run the simulation.\n",
        "2. Plot the results with the x-axis representing the dimensionality (from 1 to 20) and the y-axis representing the number of samples that fall inside the hypersphere.\n",
        "\n",
        "If everything has been implemented correctly, the provided code should execute without the need for modifications.\n",
        "\n"
      ],
      "metadata": {
        "id": "JqGmgYONb3aH"
      }
    },
    {
      "cell_type": "code",
      "source": [
        "# # Function to generate samples in a cube\n",
        "# def generate_cube_sample(N: int, D: int, r: float) -> np.ndarray:\n",
        "#     return np.random.uniform(low=-r, high=r, size=(N, D))\n",
        "\n",
        "# # Function to count how many points are inside a sphere\n",
        "# def count_inside_sphere(points: np.ndarray, r: float) -> int:\n",
        "#     distances = np.linalg.norm(points, axis=1)\n",
        "#     return np.sum(distances <= r)\n",
        "\n",
        "# Resetting the variables before reusing them (did this as the notebook seems to retain old values otherwise)\n",
        "def run_experiment():\n",
        "    r = 0.5\n",
        "    N = 1000\n",
        "    D_range = range(1, 20)\n",
        "    print(D_range)\n",
        "    samples_in_sphere_list = []  # Reset the result list\n",
        "    for D in D_range:\n",
        "        cube_samples = generate_cube_sample(N, D, r)  # Local variables inside the loop\n",
        "        samples_in_sphere = count_inside_sphere(cube_samples, r)\n",
        "        samples_in_sphere_list.append(samples_in_sphere)\n",
        "\n",
        "    # Print or return the final results\n",
        "    return D_range, samples_in_sphere_list\n",
        "\n",
        "\n",
        "samples_in_sphere_list"
      ],
      "metadata": {
        "id": "lf7Tc6sibytN",
        "colab": {
          "base_uri": "https://localhost:8080/"
        },
        "outputId": "588cd8a7-8e85-433a-a57e-d49128f3248b"
      },
      "execution_count": null,
      "outputs": [
        {
          "output_type": "execute_result",
          "data": {
            "text/plain": [
              "[1000, 777, 523, 278, 162, 83, 44, 16, 7, 3, 0, 1, 0, 0, 0, 0, 0, 0, 0]"
            ]
          },
          "metadata": {},
          "execution_count": 249
        }
      ]
    },
    {
      "cell_type": "code",
      "source": [
        "plt.plot(D_range,samples_in_sphere_list)\n",
        "plt.xlabel(\"Dimensionality\")\n",
        "plt.ylabel(\"Samples in the sphere\")"
      ],
      "metadata": {
        "id": "rVu9jfZUdNPl",
        "colab": {
          "base_uri": "https://localhost:8080/",
          "height": 755
        },
        "outputId": "b2bddfd7-f8dd-4066-c452-b5c21d0d94d6"
      },
      "execution_count": null,
      "outputs": [
        {
          "output_type": "error",
          "ename": "ValueError",
          "evalue": "x and y must have same first dimension, but have shapes (995,) and (19,)",
          "traceback": [
            "\u001b[0;31m---------------------------------------------------------------------------\u001b[0m",
            "\u001b[0;31mValueError\u001b[0m                                Traceback (most recent call last)",
            "\u001b[0;32m<ipython-input-250-06fcb6fd2413>\u001b[0m in \u001b[0;36m<cell line: 1>\u001b[0;34m()\u001b[0m\n\u001b[0;32m----> 1\u001b[0;31m \u001b[0mplt\u001b[0m\u001b[0;34m.\u001b[0m\u001b[0mplot\u001b[0m\u001b[0;34m(\u001b[0m\u001b[0mD_range\u001b[0m\u001b[0;34m,\u001b[0m\u001b[0msamples_in_sphere_list\u001b[0m\u001b[0;34m)\u001b[0m\u001b[0;34m\u001b[0m\u001b[0;34m\u001b[0m\u001b[0m\n\u001b[0m\u001b[1;32m      2\u001b[0m \u001b[0mplt\u001b[0m\u001b[0;34m.\u001b[0m\u001b[0mxlabel\u001b[0m\u001b[0;34m(\u001b[0m\u001b[0;34m\"Dimensionality\"\u001b[0m\u001b[0;34m)\u001b[0m\u001b[0;34m\u001b[0m\u001b[0;34m\u001b[0m\u001b[0m\n\u001b[1;32m      3\u001b[0m \u001b[0mplt\u001b[0m\u001b[0;34m.\u001b[0m\u001b[0mylabel\u001b[0m\u001b[0;34m(\u001b[0m\u001b[0;34m\"Samples in the sphere\"\u001b[0m\u001b[0;34m)\u001b[0m\u001b[0;34m\u001b[0m\u001b[0;34m\u001b[0m\u001b[0m\n",
            "\u001b[0;32m/usr/local/lib/python3.10/dist-packages/matplotlib/pyplot.py\u001b[0m in \u001b[0;36mplot\u001b[0;34m(scalex, scaley, data, *args, **kwargs)\u001b[0m\n\u001b[1;32m   2810\u001b[0m \u001b[0;34m@\u001b[0m\u001b[0m_copy_docstring_and_deprecators\u001b[0m\u001b[0;34m(\u001b[0m\u001b[0mAxes\u001b[0m\u001b[0;34m.\u001b[0m\u001b[0mplot\u001b[0m\u001b[0;34m)\u001b[0m\u001b[0;34m\u001b[0m\u001b[0;34m\u001b[0m\u001b[0m\n\u001b[1;32m   2811\u001b[0m \u001b[0;32mdef\u001b[0m \u001b[0mplot\u001b[0m\u001b[0;34m(\u001b[0m\u001b[0;34m*\u001b[0m\u001b[0margs\u001b[0m\u001b[0;34m,\u001b[0m \u001b[0mscalex\u001b[0m\u001b[0;34m=\u001b[0m\u001b[0;32mTrue\u001b[0m\u001b[0;34m,\u001b[0m \u001b[0mscaley\u001b[0m\u001b[0;34m=\u001b[0m\u001b[0;32mTrue\u001b[0m\u001b[0;34m,\u001b[0m \u001b[0mdata\u001b[0m\u001b[0;34m=\u001b[0m\u001b[0;32mNone\u001b[0m\u001b[0;34m,\u001b[0m \u001b[0;34m**\u001b[0m\u001b[0mkwargs\u001b[0m\u001b[0;34m)\u001b[0m\u001b[0;34m:\u001b[0m\u001b[0;34m\u001b[0m\u001b[0;34m\u001b[0m\u001b[0m\n\u001b[0;32m-> 2812\u001b[0;31m     return gca().plot(\n\u001b[0m\u001b[1;32m   2813\u001b[0m         \u001b[0;34m*\u001b[0m\u001b[0margs\u001b[0m\u001b[0;34m,\u001b[0m \u001b[0mscalex\u001b[0m\u001b[0;34m=\u001b[0m\u001b[0mscalex\u001b[0m\u001b[0;34m,\u001b[0m \u001b[0mscaley\u001b[0m\u001b[0;34m=\u001b[0m\u001b[0mscaley\u001b[0m\u001b[0;34m,\u001b[0m\u001b[0;34m\u001b[0m\u001b[0;34m\u001b[0m\u001b[0m\n\u001b[1;32m   2814\u001b[0m         **({\"data\": data} if data is not None else {}), **kwargs)\n",
            "\u001b[0;32m/usr/local/lib/python3.10/dist-packages/matplotlib/axes/_axes.py\u001b[0m in \u001b[0;36mplot\u001b[0;34m(self, scalex, scaley, data, *args, **kwargs)\u001b[0m\n\u001b[1;32m   1686\u001b[0m         \"\"\"\n\u001b[1;32m   1687\u001b[0m         \u001b[0mkwargs\u001b[0m \u001b[0;34m=\u001b[0m \u001b[0mcbook\u001b[0m\u001b[0;34m.\u001b[0m\u001b[0mnormalize_kwargs\u001b[0m\u001b[0;34m(\u001b[0m\u001b[0mkwargs\u001b[0m\u001b[0;34m,\u001b[0m \u001b[0mmlines\u001b[0m\u001b[0;34m.\u001b[0m\u001b[0mLine2D\u001b[0m\u001b[0;34m)\u001b[0m\u001b[0;34m\u001b[0m\u001b[0;34m\u001b[0m\u001b[0m\n\u001b[0;32m-> 1688\u001b[0;31m         \u001b[0mlines\u001b[0m \u001b[0;34m=\u001b[0m \u001b[0;34m[\u001b[0m\u001b[0;34m*\u001b[0m\u001b[0mself\u001b[0m\u001b[0;34m.\u001b[0m\u001b[0m_get_lines\u001b[0m\u001b[0;34m(\u001b[0m\u001b[0;34m*\u001b[0m\u001b[0margs\u001b[0m\u001b[0;34m,\u001b[0m \u001b[0mdata\u001b[0m\u001b[0;34m=\u001b[0m\u001b[0mdata\u001b[0m\u001b[0;34m,\u001b[0m \u001b[0;34m**\u001b[0m\u001b[0mkwargs\u001b[0m\u001b[0;34m)\u001b[0m\u001b[0;34m]\u001b[0m\u001b[0;34m\u001b[0m\u001b[0;34m\u001b[0m\u001b[0m\n\u001b[0m\u001b[1;32m   1689\u001b[0m         \u001b[0;32mfor\u001b[0m \u001b[0mline\u001b[0m \u001b[0;32min\u001b[0m \u001b[0mlines\u001b[0m\u001b[0;34m:\u001b[0m\u001b[0;34m\u001b[0m\u001b[0;34m\u001b[0m\u001b[0m\n\u001b[1;32m   1690\u001b[0m             \u001b[0mself\u001b[0m\u001b[0;34m.\u001b[0m\u001b[0madd_line\u001b[0m\u001b[0;34m(\u001b[0m\u001b[0mline\u001b[0m\u001b[0;34m)\u001b[0m\u001b[0;34m\u001b[0m\u001b[0;34m\u001b[0m\u001b[0m\n",
            "\u001b[0;32m/usr/local/lib/python3.10/dist-packages/matplotlib/axes/_base.py\u001b[0m in \u001b[0;36m__call__\u001b[0;34m(self, data, *args, **kwargs)\u001b[0m\n\u001b[1;32m    309\u001b[0m                 \u001b[0mthis\u001b[0m \u001b[0;34m+=\u001b[0m \u001b[0margs\u001b[0m\u001b[0;34m[\u001b[0m\u001b[0;36m0\u001b[0m\u001b[0;34m]\u001b[0m\u001b[0;34m,\u001b[0m\u001b[0;34m\u001b[0m\u001b[0;34m\u001b[0m\u001b[0m\n\u001b[1;32m    310\u001b[0m                 \u001b[0margs\u001b[0m \u001b[0;34m=\u001b[0m \u001b[0margs\u001b[0m\u001b[0;34m[\u001b[0m\u001b[0;36m1\u001b[0m\u001b[0;34m:\u001b[0m\u001b[0;34m]\u001b[0m\u001b[0;34m\u001b[0m\u001b[0;34m\u001b[0m\u001b[0m\n\u001b[0;32m--> 311\u001b[0;31m             yield from self._plot_args(\n\u001b[0m\u001b[1;32m    312\u001b[0m                 this, kwargs, ambiguous_fmt_datakey=ambiguous_fmt_datakey)\n\u001b[1;32m    313\u001b[0m \u001b[0;34m\u001b[0m\u001b[0m\n",
            "\u001b[0;32m/usr/local/lib/python3.10/dist-packages/matplotlib/axes/_base.py\u001b[0m in \u001b[0;36m_plot_args\u001b[0;34m(self, tup, kwargs, return_kwargs, ambiguous_fmt_datakey)\u001b[0m\n\u001b[1;32m    502\u001b[0m \u001b[0;34m\u001b[0m\u001b[0m\n\u001b[1;32m    503\u001b[0m         \u001b[0;32mif\u001b[0m \u001b[0mx\u001b[0m\u001b[0;34m.\u001b[0m\u001b[0mshape\u001b[0m\u001b[0;34m[\u001b[0m\u001b[0;36m0\u001b[0m\u001b[0;34m]\u001b[0m \u001b[0;34m!=\u001b[0m \u001b[0my\u001b[0m\u001b[0;34m.\u001b[0m\u001b[0mshape\u001b[0m\u001b[0;34m[\u001b[0m\u001b[0;36m0\u001b[0m\u001b[0;34m]\u001b[0m\u001b[0;34m:\u001b[0m\u001b[0;34m\u001b[0m\u001b[0;34m\u001b[0m\u001b[0m\n\u001b[0;32m--> 504\u001b[0;31m             raise ValueError(f\"x and y must have same first dimension, but \"\n\u001b[0m\u001b[1;32m    505\u001b[0m                              f\"have shapes {x.shape} and {y.shape}\")\n\u001b[1;32m    506\u001b[0m         \u001b[0;32mif\u001b[0m \u001b[0mx\u001b[0m\u001b[0;34m.\u001b[0m\u001b[0mndim\u001b[0m \u001b[0;34m>\u001b[0m \u001b[0;36m2\u001b[0m \u001b[0;32mor\u001b[0m \u001b[0my\u001b[0m\u001b[0;34m.\u001b[0m\u001b[0mndim\u001b[0m \u001b[0;34m>\u001b[0m \u001b[0;36m2\u001b[0m\u001b[0;34m:\u001b[0m\u001b[0;34m\u001b[0m\u001b[0;34m\u001b[0m\u001b[0m\n",
            "\u001b[0;31mValueError\u001b[0m: x and y must have same first dimension, but have shapes (995,) and (19,)"
          ]
        },
        {
          "output_type": "display_data",
          "data": {
            "text/plain": [
              "<Figure size 640x480 with 1 Axes>"
            ],
            "image/png": "[encoded data removed]"
          },
          "metadata": {}
        }
      ]
    },
    {
      "cell_type": "markdown",
      "source": [
        "# **Problem 3: Concentration of Angles** (Slides 20-22)\n",
        "\n",
        "**Objective**:\n",
        "To investigate the expected angle between vectors drawn from a D-dimensional space.\n",
        "\n",
        "### Context:\n",
        "\n",
        "As the dimensionality of a space increases, the angles between randomly drawn vectors from that space exhibit interesting behaviors. This task aims to explore this phenomenon.\n",
        "\n",
        "## Tasks:\n",
        "\n",
        "1. Draw random vectors from a D-dimensional space.\n",
        "2. Compute the angle between these vectors.\n",
        "3. Analyze the distribution of these angles as \\(D\\) varies. What do you observe about the expected angle?\n",
        "\n",
        "Refer to slides 20-22 for relevant background information and insights. Implement your solution and share your findings.\n",
        "\n"
      ],
      "metadata": {
        "id": "xXZLGZbqBQPv"
      }
    },
    {
      "cell_type": "markdown",
      "source": [
        "First, accomplish this functions:"
      ],
      "metadata": {
        "id": "uF3YPY3wGC6L"
      }
    },
    {
      "cell_type": "code",
      "source": [
        "def generate_points(D):\n",
        "  X = np.random.randn(D)\n",
        "  Y = np.random.randn(D)\n",
        "  Z = np.random.randn(D)\n",
        "  W = np.random.randn(D)\n",
        "  return X, Y, Z, W\n",
        "\n",
        "def compute_cos(a, b):\n",
        "  cos = cos = np.dot(a, b) / (np.linalg.norm(a) * np.linalg.norm(b))\n",
        "  return cos"
      ],
      "metadata": {
        "id": "zY4QvCLQ_Zoo"
      },
      "execution_count": null,
      "outputs": []
    },
    {
      "cell_type": "markdown",
      "source": [
        "Second, verify how cos of the angle between two random vectors. For defining two vectors we sample 4 random points.\n",
        "\n",
        "$$a = X - Y$$\n",
        "$$b = W - Z$$"
      ],
      "metadata": {
        "id": "y80I8W2jL__e"
      }
    },
    {
      "cell_type": "code",
      "source": [
        "N = 100\n",
        "means_cos = []\n",
        "D_range=range(5,1000)\n",
        "for D in D_range:\n",
        "  sum_cos = 0\n",
        "  for _ in range(N):\n",
        "    X, Y, Z, W = generate_points(D)\n",
        "    a = X - Y\n",
        "    b = W - Z\n",
        "    cos_value = compute_cos(a, b)\n",
        "    sum_cos += cos_value\n",
        "  mean_cos = sum_cos/N\n",
        "  means_cos.append(mean_cos)"
      ],
      "metadata": {
        "id": "mrUEGP1fCAcY"
      },
      "execution_count": null,
      "outputs": []
    },
    {
      "cell_type": "code",
      "source": [
        "plt.plot(D_range, means_cos)\n",
        "plt.xlabel(\"Dimension\")\n",
        "plt.ylabel(\"cos\")"
      ],
      "metadata": {
        "id": "gotAGUcyDOOh",
        "colab": {
          "base_uri": "https://localhost:8080/",
          "height": 467
        },
        "outputId": "0a63c077-e8b2-4045-e0c3-e91c52edc37b"
      },
      "execution_count": null,
      "outputs": [
        {
          "output_type": "execute_result",
          "data": {
            "text/plain": [
              "Text(0, 0.5, 'cos')"
            ]
          },
          "metadata": {},
          "execution_count": 234
        },
        {
          "output_type": "display_data",
          "data": {
            "text/plain": [
              "<Figure size 640x480 with 1 Axes>"
            ],
            "image/png": "[encoded data removed]"
          },
          "metadata": {}
        }
      ]
    },
    {
      "cell_type": "markdown",
      "source": [
        "Now, verify the angle between vectors which form a triangle $X, Y, Z$."
      ],
      "metadata": {
        "id": "oXNlT7SFM920"
      }
    },
    {
      "cell_type": "code",
      "source": [
        "N = 100\n",
        "means_cos = []\n",
        "D_range=range(5,1000)\n",
        "for D in D_range:\n",
        "  sum_cos = 0\n",
        "  for _ in range(N):\n",
        "    X, Y, Z, W = generate_points(D)\n",
        "    a = X - Y\n",
        "    b = Z - Y #TODO\n",
        "    cos = compute_cos(a, b)\n",
        "    sum_cos += cos\n",
        "  mean_cos = sum_cos/N\n",
        "  means_cos.append(mean_cos)"
      ],
      "metadata": {
        "id": "y7_bFTy9DyB2"
      },
      "execution_count": null,
      "outputs": []
    },
    {
      "cell_type": "code",
      "source": [
        "plt.plot(D_range, means_cos)\n",
        "plt.xlabel(\"Dimension\")\n",
        "plt.ylabel(\"cos\")"
      ],
      "metadata": {
        "id": "fGUFm4_1F108",
        "colab": {
          "base_uri": "https://localhost:8080/",
          "height": 467
        },
        "outputId": "686872b3-43a2-4ba6-ab0c-429070714b95"
      },
      "execution_count": null,
      "outputs": [
        {
          "output_type": "execute_result",
          "data": {
            "text/plain": [
              "Text(0, 0.5, 'cos')"
            ]
          },
          "metadata": {},
          "execution_count": 237
        },
        {
          "output_type": "display_data",
          "data": {
            "text/plain": [
              "<Figure size 640x480 with 1 Axes>"
            ],
            "image/png": "[encoded data removed]"
          },
          "metadata": {}
        }
      ]
    },
    {
      "cell_type": "markdown",
      "source": [
        "**Discussion of the above results:** For the first problem where we tried to find the angle between two random vectors in D-dimnensional space, we find that the the resultant cosine value fluctautes around 0 meaning that the angle between the two random vectors flucatuates around Π/2.\n",
        "\n",
        "For the second problem when we try to find the angle between three random vectors which form a traingle XYZ, the resultant cosine value converges towards 1/2 meaning that the angles are likely to be Π/3 or 60 ̊ implying that Every random triangle is a equilateral triangle.\n"
      ],
      "metadata": {
        "id": "MIIXAqjSCmp5"
      }
    }
  ]
}